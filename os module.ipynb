{
 "cells": [
  {
   "cell_type": "code",
   "execution_count": 3,
   "metadata": {},
   "outputs": [],
   "source": [
    "f = open('practice.txt', 'w+')\n",
    "f.write('This is a test string')\n",
    "f.close()"
   ]
  },
  {
   "cell_type": "code",
   "execution_count": 4,
   "metadata": {},
   "outputs": [
    {
     "data": {
      "text/plain": [
       "'C:\\\\Users\\\\rafael_l2\\\\OneDrive - Verifone\\\\Customers\\\\VeriFone\\\\CMS-5251 - Machine Learning\\\\Curso Python\\\\Mis notebooks'"
      ]
     },
     "execution_count": 4,
     "metadata": {},
     "output_type": "execute_result"
    }
   ],
   "source": [
    "pwd"
   ]
  },
  {
   "cell_type": "code",
   "execution_count": 5,
   "metadata": {},
   "outputs": [
    {
     "name": "stdout",
     "output_type": "stream",
     "text": [
      "<_io.TextIOWrapper name='practice.txt' mode='w+' encoding='cp1252'>\n"
     ]
    }
   ],
   "source": [
    "print(f)"
   ]
  },
  {
   "cell_type": "code",
   "execution_count": 6,
   "metadata": {},
   "outputs": [],
   "source": [
    "import os"
   ]
  },
  {
   "cell_type": "code",
   "execution_count": 7,
   "metadata": {},
   "outputs": [
    {
     "data": {
      "text/plain": [
       "'C:\\\\Users\\\\rafael_l2\\\\OneDrive - Verifone\\\\Customers\\\\VeriFone\\\\CMS-5251 - Machine Learning\\\\Curso Python\\\\Mis notebooks'"
      ]
     },
     "execution_count": 7,
     "metadata": {},
     "output_type": "execute_result"
    }
   ],
   "source": [
    "os.getcwd()"
   ]
  },
  {
   "cell_type": "code",
   "execution_count": 9,
   "metadata": {},
   "outputs": [
    {
     "data": {
      "text/plain": [
       "['.ipynb_checkpoints',\n",
       " '.Rhistory',\n",
       " 'California Housing.ipynb',\n",
       " 'Chargebacks Project',\n",
       " 'clase 3',\n",
       " 'clase 4 Verifone',\n",
       " 'Curso Python',\n",
       " 'd.csv',\n",
       " 'dataset',\n",
       " 'data_preprocessing_template.ipynb',\n",
       " 'data_preprocessing_tools.ipynb',\n",
       " 'debitos y creditos.xlsx',\n",
       " 'debug.log',\n",
       " 'ejH2o+Forest.r',\n",
       " 'ejH2o.r',\n",
       " 'Feature Engineering',\n",
       " 'fraudulent and non fradulent txns.sql',\n",
       " 'fraudulent_txns_detection_model_preparation.ipynb',\n",
       " 'fraudulent_txns_detection_model_preparation_sin_barra_r.ipynb',\n",
       " 'fraud_txns_round_amnt 20201217.csv',\n",
       " 'fraud_txns_round_amnt 20201223.csv',\n",
       " 'fraud_txns_round_amnt.zip',\n",
       " 'fraud_txns_round_amnt_old.csv',\n",
       " 'machine-learning-imbalanced-data-master',\n",
       " 'ML Basics_clase_1.pdf',\n",
       " 'ML Basics_clase_2.pdf',\n",
       " 'ml noviembre 26 2020.txt',\n",
       " 'Old_with_some_examples_fraudulent_txns_detection_model.ipynb',\n",
       " 'RegrLogistica.r',\n",
       " 'sql to produce fraud csv file.sql',\n",
       " 'tree.r',\n",
       " 'Untitled.ipynb',\n",
       " 'Untitled1.ipynb']"
      ]
     },
     "execution_count": 9,
     "metadata": {},
     "output_type": "execute_result"
    }
   ],
   "source": [
    "os.listdir('C:\\\\Users\\\\rafael_l2\\\\OneDrive - Verifone\\\\Customers\\\\VeriFone\\\\CMS-5251 - Machine Learning')"
   ]
  },
  {
   "cell_type": "code",
   "execution_count": 11,
   "metadata": {},
   "outputs": [
    {
     "data": {
      "text/plain": [
       "['.ipynb_checkpoints',\n",
       " 'advance modules.ipynb',\n",
       " 'cap.py',\n",
       " 'comparison operators.ipynb',\n",
       " 'decorators.ipynb',\n",
       " 'error handling.ipynb',\n",
       " 'generators.ipynb',\n",
       " 'methods and functions.ipynb',\n",
       " 'Milestone project 1.ipynb',\n",
       " 'milestone project2.ipynb',\n",
       " 'myfile.txt',\n",
       " 'MyFirstPackage',\n",
       " 'mymodules.py',\n",
       " 'myprogram.py',\n",
       " 'object oriente programming.ipynb',\n",
       " 'one.py',\n",
       " 'os module.ipynb',\n",
       " 'practice.txt',\n",
       " 'string in python.ipynb',\n",
       " 'tesfile',\n",
       " 'test_cap.py',\n",
       " 'test_pylint.py',\n",
       " 'text file io examples.ipynb',\n",
       " 'two.py',\n",
       " '__pycache__']"
      ]
     },
     "execution_count": 11,
     "metadata": {},
     "output_type": "execute_result"
    }
   ],
   "source": [
    "os.listdir()"
   ]
  },
  {
   "cell_type": "code",
   "execution_count": 10,
   "metadata": {},
   "outputs": [],
   "source": [
    "import shutil"
   ]
  },
  {
   "cell_type": "code",
   "execution_count": 12,
   "metadata": {},
   "outputs": [
    {
     "data": {
      "text/plain": [
       "'C:\\\\Users\\\\rafael_l2\\\\OneDrive - Verifone\\\\Customers\\\\VeriFone\\\\CMS-5251 - Machine Learning\\\\practice.txt'"
      ]
     },
     "execution_count": 12,
     "metadata": {},
     "output_type": "execute_result"
    }
   ],
   "source": [
    "shutil.move('practice.txt', 'C:\\\\Users\\\\rafael_l2\\\\OneDrive - Verifone\\\\Customers\\\\VeriFone\\\\CMS-5251 - Machine Learning')"
   ]
  },
  {
   "cell_type": "code",
   "execution_count": 13,
   "metadata": {},
   "outputs": [
    {
     "data": {
      "text/plain": [
       "['.ipynb_checkpoints',\n",
       " '.Rhistory',\n",
       " 'California Housing.ipynb',\n",
       " 'Chargebacks Project',\n",
       " 'clase 3',\n",
       " 'clase 4 Verifone',\n",
       " 'Curso Python',\n",
       " 'd.csv',\n",
       " 'dataset',\n",
       " 'data_preprocessing_template.ipynb',\n",
       " 'data_preprocessing_tools.ipynb',\n",
       " 'debitos y creditos.xlsx',\n",
       " 'debug.log',\n",
       " 'ejH2o+Forest.r',\n",
       " 'ejH2o.r',\n",
       " 'Feature Engineering',\n",
       " 'fraudulent and non fradulent txns.sql',\n",
       " 'fraudulent_txns_detection_model_preparation.ipynb',\n",
       " 'fraudulent_txns_detection_model_preparation_sin_barra_r.ipynb',\n",
       " 'fraud_txns_round_amnt 20201217.csv',\n",
       " 'fraud_txns_round_amnt 20201223.csv',\n",
       " 'fraud_txns_round_amnt.zip',\n",
       " 'fraud_txns_round_amnt_old.csv',\n",
       " 'machine-learning-imbalanced-data-master',\n",
       " 'ML Basics_clase_1.pdf',\n",
       " 'ML Basics_clase_2.pdf',\n",
       " 'ml noviembre 26 2020.txt',\n",
       " 'Old_with_some_examples_fraudulent_txns_detection_model.ipynb',\n",
       " 'practice.txt',\n",
       " 'RegrLogistica.r',\n",
       " 'sql to produce fraud csv file.sql',\n",
       " 'tree.r',\n",
       " 'Untitled.ipynb',\n",
       " 'Untitled1.ipynb']"
      ]
     },
     "execution_count": 13,
     "metadata": {},
     "output_type": "execute_result"
    }
   ],
   "source": [
    "os.listdir('C:\\\\Users\\\\rafael_l2\\\\OneDrive - Verifone\\\\Customers\\\\VeriFone\\\\CMS-5251 - Machine Learning')"
   ]
  },
  {
   "cell_type": "code",
   "execution_count": 14,
   "metadata": {},
   "outputs": [],
   "source": [
    "import send2trash"
   ]
  },
  {
   "cell_type": "code",
   "execution_count": 16,
   "metadata": {},
   "outputs": [
    {
     "data": {
      "text/plain": [
       "'C:\\\\Users\\\\rafael_l2\\\\OneDrive - Verifone\\\\Customers\\\\VeriFone\\\\CMS-5251 - Machine Learning\\\\Curso Python\\\\Mis notebooks\\\\practice.txt'"
      ]
     },
     "execution_count": 16,
     "metadata": {},
     "output_type": "execute_result"
    }
   ],
   "source": [
    "shutil.move('C:\\\\Users\\\\rafael_l2\\\\OneDrive - Verifone\\\\Customers\\\\VeriFone\\\\CMS-5251 - Machine Learning\\\\practice.txt', os.getcwd())"
   ]
  },
  {
   "cell_type": "code",
   "execution_count": 19,
   "metadata": {},
   "outputs": [
    {
     "data": {
      "text/plain": [
       "['.ipynb_checkpoints',\n",
       " 'advance modules.ipynb',\n",
       " 'cap.py',\n",
       " 'comparison operators.ipynb',\n",
       " 'decorators.ipynb',\n",
       " 'error handling.ipynb',\n",
       " 'generators.ipynb',\n",
       " 'methods and functions.ipynb',\n",
       " 'Milestone project 1.ipynb',\n",
       " 'milestone project2.ipynb',\n",
       " 'myfile.txt',\n",
       " 'MyFirstPackage',\n",
       " 'mymodules.py',\n",
       " 'myprogram.py',\n",
       " 'object oriente programming.ipynb',\n",
       " 'one.py',\n",
       " 'os module.ipynb',\n",
       " 'string in python.ipynb',\n",
       " 'tesfile',\n",
       " 'test_cap.py',\n",
       " 'test_pylint.py',\n",
       " 'text file io examples.ipynb',\n",
       " 'two.py',\n",
       " '__pycache__']"
      ]
     },
     "execution_count": 19,
     "metadata": {},
     "output_type": "execute_result"
    }
   ],
   "source": [
    "os.listdir()"
   ]
  },
  {
   "cell_type": "code",
   "execution_count": 18,
   "metadata": {},
   "outputs": [],
   "source": [
    "send2trash.send2trash('practice.txt')"
   ]
  },
  {
   "cell_type": "code",
   "execution_count": 20,
   "metadata": {},
   "outputs": [
    {
     "data": {
      "text/plain": [
       "'C:\\\\Users\\\\rafael_l2\\\\OneDrive - Verifone\\\\Customers\\\\VeriFone\\\\CMS-5251 - Machine Learning\\\\Curso Python\\\\Mis notebooks'"
      ]
     },
     "execution_count": 20,
     "metadata": {},
     "output_type": "execute_result"
    }
   ],
   "source": [
    "os.getcwd()"
   ]
  },
  {
   "cell_type": "code",
   "execution_count": 21,
   "metadata": {},
   "outputs": [],
   "source": [
    "file_path = 'C:\\\\Users\\\\rafael_l2\\\\OneDrive - Verifone\\\\Customers\\\\VeriFone\\\\CMS-5251 - Machine Learning\\\\Curso Python\\\\Mis notebooks'"
   ]
  },
  {
   "cell_type": "code",
   "execution_count": 24,
   "metadata": {},
   "outputs": [
    {
     "name": "stdout",
     "output_type": "stream",
     "text": [
      "Currently looking at folder C:\\Users\\rafael_l2\\OneDrive - Verifone\\Customers\\VeriFone\\CMS-5251 - Machine Learning\\Curso Python\\Mis notebooks\n",
      "\n",
      "\n",
      "Subfolders are:\n",
      "Subfolder .ipynb_checkpoints\n",
      "Subfolder MyFirstPackage\n",
      "Subfolder __pycache__\n",
      "\n",
      "\n",
      "The files are:\n",
      "\t File: advance modules.ipynb\n",
      "\t File: cap.py\n",
      "\t File: comparison operators.ipynb\n",
      "\t File: decorators.ipynb\n",
      "\t File: error handling.ipynb\n",
      "\t File: generators.ipynb\n",
      "\t File: methods and functions.ipynb\n",
      "\t File: Milestone project 1.ipynb\n",
      "\t File: milestone project2.ipynb\n",
      "\t File: myfile.txt\n",
      "\t File: mymodules.py\n",
      "\t File: myprogram.py\n",
      "\t File: object oriente programming.ipynb\n",
      "\t File: one.py\n",
      "\t File: os module.ipynb\n",
      "\t File: string in python.ipynb\n",
      "\t File: tesfile\n",
      "\t File: test_cap.py\n",
      "\t File: test_pylint.py\n",
      "\t File: text file io examples.ipynb\n",
      "\t File: two.py\n",
      "Currently looking at folder C:\\Users\\rafael_l2\\OneDrive - Verifone\\Customers\\VeriFone\\CMS-5251 - Machine Learning\\Curso Python\\Mis notebooks\\.ipynb_checkpoints\n",
      "\n",
      "\n",
      "Subfolders are:\n",
      "\n",
      "\n",
      "The files are:\n",
      "\t File: advance modules-checkpoint.ipynb\n",
      "\t File: comparison operators-checkpoint.ipynb\n",
      "\t File: decorators-checkpoint.ipynb\n",
      "\t File: error handling-checkpoint.ipynb\n",
      "\t File: generators-checkpoint.ipynb\n",
      "\t File: methods and functions-checkpoint.ipynb\n",
      "\t File: Milestone project 1-checkpoint.ipynb\n",
      "\t File: milestone project2-checkpoint.ipynb\n",
      "\t File: object oriente programming-checkpoint.ipynb\n",
      "\t File: os module-checkpoint.ipynb\n",
      "\t File: practice-checkpoint.txt\n",
      "\t File: string in python-checkpoint.ipynb\n",
      "\t File: text file io examples-checkpoint.ipynb\n",
      "Currently looking at folder C:\\Users\\rafael_l2\\OneDrive - Verifone\\Customers\\VeriFone\\CMS-5251 - Machine Learning\\Curso Python\\Mis notebooks\\MyFirstPackage\n",
      "\n",
      "\n",
      "Subfolders are:\n",
      "Subfolder SubPackage\n",
      "Subfolder __pycache__\n",
      "\n",
      "\n",
      "The files are:\n",
      "\t File: mymainscript.py\n",
      "\t File: some_main_script.py\n",
      "\t File: __init__.py\n",
      "Currently looking at folder C:\\Users\\rafael_l2\\OneDrive - Verifone\\Customers\\VeriFone\\CMS-5251 - Machine Learning\\Curso Python\\Mis notebooks\\MyFirstPackage\\SubPackage\n",
      "\n",
      "\n",
      "Subfolders are:\n",
      "Subfolder __pycache__\n",
      "\n",
      "\n",
      "The files are:\n",
      "\t File: mysubscript.py\n",
      "\t File: __init__.py\n",
      "Currently looking at folder C:\\Users\\rafael_l2\\OneDrive - Verifone\\Customers\\VeriFone\\CMS-5251 - Machine Learning\\Curso Python\\Mis notebooks\\MyFirstPackage\\SubPackage\\__pycache__\n",
      "\n",
      "\n",
      "Subfolders are:\n",
      "\n",
      "\n",
      "The files are:\n",
      "\t File: mysubscript.cpython-38.pyc\n",
      "\t File: __init__.cpython-38.pyc\n",
      "Currently looking at folder C:\\Users\\rafael_l2\\OneDrive - Verifone\\Customers\\VeriFone\\CMS-5251 - Machine Learning\\Curso Python\\Mis notebooks\\MyFirstPackage\\__pycache__\n",
      "\n",
      "\n",
      "Subfolders are:\n",
      "\n",
      "\n",
      "The files are:\n",
      "\t File: some_main_script.cpython-38.pyc\n",
      "\t File: __init__.cpython-38.pyc\n",
      "Currently looking at folder C:\\Users\\rafael_l2\\OneDrive - Verifone\\Customers\\VeriFone\\CMS-5251 - Machine Learning\\Curso Python\\Mis notebooks\\__pycache__\n",
      "\n",
      "\n",
      "Subfolders are:\n",
      "\n",
      "\n",
      "The files are:\n",
      "\t File: cap.cpython-38.pyc\n",
      "\t File: mymodules.cpython-38.pyc\n",
      "\t File: one.cpython-38.pyc\n"
     ]
    }
   ],
   "source": [
    "for folder, sub_folders, files in os.walk(file_path):\n",
    "    print(f'Currently looking at folder {folder}')\n",
    "    print('\\n')\n",
    "    print('Subfolders are:')\n",
    "    for sub_fold in sub_folders:\n",
    "        print(f'Subfolder {sub_fold}')\n",
    "\n",
    "    print('\\n')\n",
    "    print('The files are:')\n",
    "    for file in files:\n",
    "        print(f'\\t File: {file}')"
   ]
  },
  {
   "cell_type": "code",
   "execution_count": null,
   "metadata": {},
   "outputs": [],
   "source": []
  }
 ],
 "metadata": {
  "kernelspec": {
   "display_name": "Python 3",
   "language": "python",
   "name": "python3"
  },
  "language_info": {
   "codemirror_mode": {
    "name": "ipython",
    "version": 3
   },
   "file_extension": ".py",
   "mimetype": "text/x-python",
   "name": "python",
   "nbconvert_exporter": "python",
   "pygments_lexer": "ipython3",
   "version": "3.8.3"
  }
 },
 "nbformat": 4,
 "nbformat_minor": 4
}
